{
 "cells": [
  {
   "cell_type": "markdown",
   "metadata": {},
   "source": [
    "# 네이버 영화 리뷰 크롤링\n",
    "\n",
    "### selenium  사용하여 데이터 수집"
   ]
  },
  {
   "cell_type": "code",
   "execution_count": 22,
   "metadata": {},
   "outputs": [],
   "source": [
    "# 크롤링 및 전처리를 위한 모듈 불러오기\n",
    "import numpy as np\n",
    "import pandas as pd\n",
    "from pandas import DataFrame as df\n",
    "\n",
    "import re\n",
    "import pickle\n",
    "\n",
    "import time\n",
    "\n",
    "from bs4 import BeautifulSoup \n",
    "from bs4 import BeautifulSoup as bs\n",
    "\n",
    "import urllib\n",
    "from urllib.parse import urljoin\n",
    "import urllib.request as req\n",
    "from urllib.request import Request\n",
    "from urllib.request import urlopen\n",
    "\n",
    "import requests\n",
    "\n",
    "from selenium import webdriver\n",
    "from selenium.webdriver.common.keys import Keys\n",
    "from selenium.webdriver.common.action_chains import ActionChains"
   ]
  },
  {
   "cell_type": "code",
   "execution_count": 5,
   "metadata": {},
   "outputs": [
    {
     "data": {
      "text/plain": [
       "'0428'"
      ]
     },
     "execution_count": 5,
     "metadata": {},
     "output_type": "execute_result"
    }
   ],
   "source": [
    "# 날짜 월,별 지정\n",
    "import datetime\n",
    "a = datetime.datetime.today()\n",
    "today = a.strftime('%m%d')\n",
    "today"
   ]
  },
  {
   "cell_type": "code",
   "execution_count": 203,
   "metadata": {},
   "outputs": [],
   "source": [
    "# 리스트 초기화\n",
    "review_list = []\n",
    "rating_list = []\n",
    "\n",
    "# selenium 네이버 영화 리뷰, 평점 가져오기\n",
    "driver = webdriver.Chrome('C:/Users/lee/Desktop/Code/06.python/chromedriver.exe')\n",
    "\n",
    "# url 접속\n",
    "url = 'https://movie.naver.com/movie/point/af/list.nhn?'\n",
    "\n",
    "try:\n",
    "    driver.get(url)\n",
    "    time.sleep(1)\n",
    "except:\n",
    "    print('접속에러')\n",
    "time.sleep(1)\n",
    "\n",
    "# 10 페이지\n",
    "for pg_num in range(1,11):\n",
    "    # 리뷰 10개\n",
    "    for i in range(1,11):\n",
    "        a = driver.find_element_by_xpath(f'//*[@id=\"old_content\"]/table/tbody/tr[{i}]/td[2]')\n",
    "        a_text = a.text.replace('신고','').split('\\n')\n",
    "        \n",
    "        rating_list.append(int(a_text[2]))\n",
    "        review_list.append(a_text[3])\n",
    "        # print(f'별점 : {a_1[2]}, 리뷰:{a_1[3]}')\n",
    "    \n",
    "    if pg_num == 1 : \n",
    "        driver.find_element_by_xpath('//*[@id=\"old_content\"]/div[2]/div/a[11]').click()\n",
    "    else :\n",
    "        driver.find_element_by_xpath('//*[@id=\"old_content\"]/div[2]/div/a[12]').click()\n",
    "\n",
    "driver.quit()"
   ]
  },
  {
   "cell_type": "code",
   "execution_count": 205,
   "metadata": {},
   "outputs": [],
   "source": [
    "data_dict = {'rating':rating_list, 'review':review_list}"
   ]
  },
  {
   "cell_type": "code",
   "execution_count": 207,
   "metadata": {},
   "outputs": [],
   "source": [
    "review_df = pd.DataFrame(data_dict)"
   ]
  },
  {
   "cell_type": "code",
   "execution_count": 224,
   "metadata": {},
   "outputs": [
    {
     "data": {
      "text/plain": [
       "1      4\n",
       "2      7\n",
       "3      3\n",
       "4      3\n",
       "5      2\n",
       "6      5\n",
       "7      3\n",
       "8     15\n",
       "9      6\n",
       "10    52\n",
       "Name: rating, dtype: int64"
      ]
     },
     "execution_count": 224,
     "metadata": {},
     "output_type": "execute_result"
    }
   ],
   "source": [
    "review_df['rating'].value_counts().sort_index()"
   ]
  },
  {
   "cell_type": "code",
   "execution_count": null,
   "metadata": {},
   "outputs": [],
   "source": []
  },
  {
   "cell_type": "code",
   "execution_count": null,
   "metadata": {},
   "outputs": [],
   "source": []
  },
  {
   "cell_type": "code",
   "execution_count": null,
   "metadata": {},
   "outputs": [],
   "source": []
  },
  {
   "cell_type": "code",
   "execution_count": null,
   "metadata": {},
   "outputs": [],
   "source": []
  },
  {
   "cell_type": "code",
   "execution_count": null,
   "metadata": {},
   "outputs": [],
   "source": []
  },
  {
   "cell_type": "code",
   "execution_count": null,
   "metadata": {},
   "outputs": [],
   "source": []
  },
  {
   "cell_type": "code",
   "execution_count": null,
   "metadata": {},
   "outputs": [],
   "source": []
  }
 ],
 "metadata": {
  "kernelspec": {
   "display_name": "Python 3",
   "language": "python",
   "name": "python3"
  },
  "language_info": {
   "codemirror_mode": {
    "name": "ipython",
    "version": 3
   },
   "file_extension": ".py",
   "mimetype": "text/x-python",
   "name": "python",
   "nbconvert_exporter": "python",
   "pygments_lexer": "ipython3",
   "version": "3.8.5"
  }
 },
 "nbformat": 4,
 "nbformat_minor": 4
}
